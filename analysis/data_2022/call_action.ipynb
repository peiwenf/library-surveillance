{
 "cells": [
  {
   "cell_type": "code",
   "execution_count": 37,
   "metadata": {},
   "outputs": [],
   "source": [
    "import pandas as pd\n",
    "import os\n",
    "import subprocess\n",
    "from scipy import stats\n",
    "# import the dataframe that you want to generate reports for\n",
    "df = pd.read_csv(str(os. getcwd())+\"/library_tracker.csv\")"
   ]
  },
  {
   "cell_type": "code",
   "execution_count": null,
   "metadata": {},
   "outputs": [],
   "source": [
    "#Globals\n",
    "COMMAND_TEMPLATE = (\n",
    "    \"gh workflow run \"\n",
    "    \"--repo {repo} \"\n",
    "    \"generate-report.yml \"\n",
    "    \"-f url={link} \"\n",
    ")\n",
    "REPO = \"PugetSoundClinic-PIT/blacklight-collector\" \n",
    "# forked repo"
   ]
  },
  {
   "cell_type": "code",
   "execution_count": null,
   "metadata": {},
   "outputs": [],
   "source": [
    "# ietrate through the links\n",
    "for i, row in df.iterrows():\n",
    "    if row.CampWeb is not None:\n",
    "        command = COMMAND_TEMPLATE.format(\n",
    "        repo=REPO,\n",
    "        link=row.CampWeb,\n",
    "        )\n",
    "        proc_resp = subprocess.run(\n",
    "            command.split(\" \"),\n",
    "            check=True,\n",
    "        )\n",
    "        print(f\"row {i} is done!\")"
   ]
  },
  {
   "cell_type": "code",
   "execution_count": null,
   "metadata": {},
   "outputs": [],
   "source": [
    "#download reports (wait until finsih)\n",
    "store_dir = str(os. getcwd())+\"/../analysis/reports_2022/LocalElections\"\n",
    "subprocess.run([\"gh\", \"run\", \"download\", \"-D\", store_dir])"
   ]
  },
  {
   "cell_type": "code",
   "execution_count": null,
   "metadata": {},
   "outputs": [],
   "source": [
    "# Delete the current workflows- runs after every dataframe - in terminal\n",
    "\n",
    "OWNER=\"PugetSoundClinic-PIT\"\n",
    "REPO=\"blacklight-collector\"\n",
    "\n",
    "# list workflows\n",
    "subprocess.run([\"gh\", \"api\", \"-X\", \"GET\", \\\n",
    "\"repos/PugetSoundClinic-PIT/blacklight-collectorl/actions/workflows\", \"|\", \"jq\", \".workflows[]\", \"|\", \\\n",
    "    \".name,.id\"])\n",
    "\n",
    "gh api -X GET repos/peiwenf/campaign-access-eval/actions/workflows | jq '.workflows[] | .name,.id'"
   ]
  },
  {
   "cell_type": "code",
   "execution_count": null,
   "metadata": {},
   "outputs": [],
   "source": [
    "# copy the ID of the workflow you want to clear and set it\n",
    "WORKFLOW_ID=45319078\n",
    "\n",
    "# list runs\n",
    "gh api -X GET /repos/$OWNER/$REPO/actions/workflows/$WORKFLOW_ID/runs | jq '.workflow_runs[] | .id'\n",
    "\n",
    "# delete runs (you'll have to run this multiple times if there's many because of pagination)\n",
    "gh api -X GET /repos/$OWNER/$REPO/actions/workflows/$WORKFLOW_ID/runs | jq '.workflow_runs[] | .id' | xargs -I{} gh api -X DELETE /repos/$OWNER/$REPO/actions/runs/{}"
   ]
  }
 ],
 "metadata": {
  "kernelspec": {
   "display_name": "bits",
   "language": "python",
   "name": "python3"
  },
  "language_info": {
   "codemirror_mode": {
    "name": "ipython",
    "version": 3
   },
   "file_extension": ".py",
   "mimetype": "text/x-python",
   "name": "python",
   "nbconvert_exporter": "python",
   "pygments_lexer": "ipython3",
   "version": "3.9.16"
  },
  "orig_nbformat": 4
 },
 "nbformat": 4,
 "nbformat_minor": 2
}
