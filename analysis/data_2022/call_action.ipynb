{
 "cells": [
  {
   "cell_type": "code",
   "execution_count": 17,
   "metadata": {},
   "outputs": [],
   "source": [
    "import pandas as pd\n",
    "import os\n",
    "import subprocess\n",
    "from scipy import stats\n",
    "import ast\n",
    "# import the dataframe that you want to generate reports for\n",
    "df = pd.read_csv(str(os. getcwd())+\"/public_lib_purpose.csv\")"
   ]
  },
  {
   "cell_type": "code",
   "execution_count": 154,
   "metadata": {},
   "outputs": [],
   "source": [
    "#Globals\n",
    "COMMAND_TEMPLATE = (\n",
    "    \"gh workflow run \"\n",
    "    \"--repo {repo} \"\n",
    "    \"generate-report.yml \"\n",
    "    \"-f url={link} \"\n",
    ")\n",
    "REPO = \"PugetSoundClinic-PIT/blacklight-collector\" \n",
    "# forked repo"
   ]
  },
  {
   "cell_type": "code",
   "execution_count": null,
   "metadata": {},
   "outputs": [],
   "source": [
    "# ietrate through the links\n",
    "for i, row in new_df2.iterrows():\n",
    "    if type(row.Catalog) != float:\n",
    "        command = COMMAND_TEMPLATE.format(\n",
    "        repo=REPO,\n",
    "        link=row.Catalog,\n",
    "        )\n",
    "        proc_resp = subprocess.run(\n",
    "            command.split(\" \"),\n",
    "            check=True,\n",
    "        )\n",
    "        print(f\"row {i} is done!\")"
   ]
  },
  {
   "cell_type": "code",
   "execution_count": 145,
   "metadata": {},
   "outputs": [
    {
     "name": "stderr",
     "output_type": "stream",
     "text": [
      "error downloading minerva.maine.edu: error extracting zip archive: error extracting \"1.html\": open /Users/fpw/Desktop/research/library-surveillance/analysis/reports_2022/Catalog3/minerva.maine.edu/1.html: file exists\n"
     ]
    },
    {
     "data": {
      "text/plain": [
       "CompletedProcess(args=['gh', 'run', 'download', '-D', '/Users/fpw/Desktop/research/library-surveillance/analysis/data_2022/../reports_2022/Catalog3'], returncode=1)"
      ]
     },
     "execution_count": 145,
     "metadata": {},
     "output_type": "execute_result"
    }
   ],
   "source": [
    "#download reports (wait until finsih)\n",
    "store_dir = str(os. getcwd())+\"/../reports_2022/Catalog3\"\n",
    "subprocess.run([\"gh\", \"run\", \"download\", \"-D\", store_dir])"
   ]
  },
  {
   "cell_type": "code",
   "execution_count": null,
   "metadata": {},
   "outputs": [],
   "source": [
    "# delete all the runs in the disabled workflow\n",
    "org= PugetSoundClinic-PIT\n",
    "repo=blacklight-collector\n",
    "\n",
    "# Get workflow IDs with status \"disabled_manually\"\n",
    "workflow_ids=($(gh api repos/$org/$repo/actions/workflows --paginate | jq '.workflows[] | select(.[\"state\"] | contains(\"disabled_manually\")) | .id'))\n",
    "\n",
    "for workflow_id in \"${workflow_ids[@]}\"\n",
    "do\n",
    "  echo \"Listing runs for the workflow ID $workflow_id\"\n",
    "  run_ids=( $(gh api repos/$org/$repo/actions/workflows/$workflow_id/runs --paginate | jq '.workflow_runs[].id') )\n",
    "  for run_id in \"${run_ids[@]}\"\n",
    "  do\n",
    "    echo \"Deleting Run ID $run_id\"\n",
    "    gh api repos/$org/$repo/actions/runs/$run_id -X DELETE >/dev/null\n",
    "  done\n",
    "done"
   ]
  }
 ],
 "metadata": {
  "kernelspec": {
   "display_name": "bits",
   "language": "python",
   "name": "python3"
  },
  "language_info": {
   "codemirror_mode": {
    "name": "ipython",
    "version": 3
   },
   "file_extension": ".py",
   "mimetype": "text/x-python",
   "name": "python",
   "nbconvert_exporter": "python",
   "pygments_lexer": "ipython3",
   "version": "3.9.16"
  },
  "orig_nbformat": 4
 },
 "nbformat": 4,
 "nbformat_minor": 2
}
