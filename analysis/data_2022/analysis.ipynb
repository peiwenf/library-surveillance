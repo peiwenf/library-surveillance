{
 "cells": [
  {
   "cell_type": "code",
   "execution_count": null,
   "metadata": {},
   "outputs": [],
   "source": [
    "import pandas as pd\n",
    "import os\n",
    "import numpy as np\n",
    "from scikit_posthocs import posthoc_dunn\n",
    "from scipy import stats\n",
    "# import the dataframe that you want to generate reports for\n",
    "df = pd.read_csv(str(os. getcwd())+\"/public_lib_tracker.csv\")"
   ]
  },
  {
   "cell_type": "code",
   "execution_count": null,
   "metadata": {},
   "outputs": [],
   "source": [
    "# test the normality \n",
    "column_values = df['number_of_total_trackers_homepage']\n",
    "column_values = column_values.dropna()\n",
    "# Perform Shapiro-Wilk test\n",
    "stats.shapiro(column_values)"
   ]
  },
  {
   "cell_type": "code",
   "execution_count": null,
   "metadata": {},
   "outputs": [],
   "source": [
    "# check if there is a difference among the categorical variables\n",
    "df = pd.read_csv(str(os. getcwd())+\"/public_lib_tracker.csv\")\n",
    "df.dropna(subset=['number_of_total_trackers_catalog', 'Current Automation System Name'], inplace=True)\n",
    "group_freq = df['Current Automation System Name'].value_counts()\n",
    "sorted_freq = group_freq.sort_values(ascending=False)\n",
    "groups = sorted_freq.head(10).index.tolist()\n",
    "results = stats.kruskal(*[df[df['Current Automation System Name'] == group]['number_of_total_trackers_catalog'] for group in groups])\n",
    "results"
   ]
  },
  {
   "cell_type": "code",
   "execution_count": null,
   "metadata": {},
   "outputs": [],
   "source": [
    "# perform dunn's test to compare between each groups \n",
    "filtered_df = df[df['Current Automation System Name'].isin(groups)]\n",
    "dunn_results = posthoc_dunn(filtered_df, \n",
    "                            val_col = 'number_of_total_trackers_catalog',\n",
    "                              group_col = 'Current Automation System Name',\n",
    "                                p_adjust = 'holm')\n",
    "dunn_results"
   ]
  },
  {
   "cell_type": "code",
   "execution_count": null,
   "metadata": {},
   "outputs": [],
   "source": [
    "# get the ranking of the tracker rate\n",
    "group_sums = filtered_df.groupby('Current Automation System Name')['number_of_total_trackers_catalog'].sum()\n",
    "\n",
    "# Get the value counts of each group\n",
    "group_counts = filtered_df['Current Automation System Name'].value_counts()\n",
    "\n",
    "# Divide the value counts by the corresponding group sum\n",
    "group_divided_counts = group_sums / group_counts\n",
    "\n",
    "# Sort the divided counts in descending order\n",
    "sorted_divided_counts = group_divided_counts.sort_values(ascending=False)\n",
    "\n",
    "# Print the sorted divided counts\n",
    "print(sorted_divided_counts)"
   ]
  }
 ],
 "metadata": {
  "language_info": {
   "name": "python"
  },
  "orig_nbformat": 4
 },
 "nbformat": 4,
 "nbformat_minor": 2
}
